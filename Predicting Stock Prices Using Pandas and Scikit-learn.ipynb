{
 "cells": [
  {
   "cell_type": "code",
   "execution_count": 54,
   "id": "6a485169",
   "metadata": {},
   "outputs": [
    {
     "name": "stdout",
     "output_type": "stream",
     "text": [
      "/Users/christopherbaker_1/Desktop\n"
     ]
    }
   ],
   "source": [
    "cd desktop"
   ]
  },
  {
   "cell_type": "code",
   "execution_count": 3,
   "id": "05c337d4",
   "metadata": {},
   "outputs": [],
   "source": [
    "import warnings\n",
    "warnings.filterwarnings('ignore')"
   ]
  },
  {
   "cell_type": "code",
   "execution_count": 26,
   "id": "85da2f39",
   "metadata": {},
   "outputs": [],
   "source": [
    "import os\n",
    "import numpy as np\n",
    "import pandas as pd\n",
    "import yfinance as yf\n",
    "import matplotlib.pyplot as plt\n",
    "from sklearn.metrics import precision_score\n",
    "from sklearn.ensemble import RandomForestClassifier"
   ]
  },
  {
   "cell_type": "markdown",
   "id": "19da878c",
   "metadata": {},
   "source": [
    "## Downloading the Data"
   ]
  },
  {
   "cell_type": "code",
   "execution_count": 4,
   "id": "2e9e006c",
   "metadata": {},
   "outputs": [],
   "source": [
    "# Define path for JSON file where MSFT data will be saved \n",
    "PATH = \"msft_data.json\""
   ]
  },
  {
   "cell_type": "code",
   "execution_count": 5,
   "id": "184e5c9b",
   "metadata": {},
   "outputs": [],
   "source": [
    "if os.path.exists(PATH):\n",
    "    # Read from file if we've already downloaded the data\n",
    "    with open(PATH) as f:\n",
    "        msft_history = pd.read_json(PATH)\n",
    "else:\n",
    "    # Download MSFT stock prices from Yahoo finance\n",
    "    msft = yf.Ticker(\"MSFT\")\n",
    "    msft_history = msft.history(period=\"max\")\n",
    "\n",
    "    # Save file to json in case we need it later.  This prevents us from having to re-download it every time.\n",
    "    msft_history.to_json(PATH)"
   ]
  },
  {
   "cell_type": "code",
   "execution_count": 7,
   "id": "cd7944f1",
   "metadata": {},
   "outputs": [
    {
     "data": {
      "text/html": [
       "<div>\n",
       "<style scoped>\n",
       "    .dataframe tbody tr th:only-of-type {\n",
       "        vertical-align: middle;\n",
       "    }\n",
       "\n",
       "    .dataframe tbody tr th {\n",
       "        vertical-align: top;\n",
       "    }\n",
       "\n",
       "    .dataframe thead th {\n",
       "        text-align: right;\n",
       "    }\n",
       "</style>\n",
       "<table border=\"1\" class=\"dataframe\">\n",
       "  <thead>\n",
       "    <tr style=\"text-align: right;\">\n",
       "      <th></th>\n",
       "      <th>Open</th>\n",
       "      <th>High</th>\n",
       "      <th>Low</th>\n",
       "      <th>Close</th>\n",
       "      <th>Volume</th>\n",
       "      <th>Dividends</th>\n",
       "      <th>Stock Splits</th>\n",
       "    </tr>\n",
       "  </thead>\n",
       "  <tbody>\n",
       "    <tr>\n",
       "      <th>1986-03-13 05:00:00</th>\n",
       "      <td>0.054893</td>\n",
       "      <td>0.062965</td>\n",
       "      <td>0.054893</td>\n",
       "      <td>0.060274</td>\n",
       "      <td>1031788800</td>\n",
       "      <td>0.0</td>\n",
       "      <td>0.0</td>\n",
       "    </tr>\n",
       "    <tr>\n",
       "      <th>1986-03-14 05:00:00</th>\n",
       "      <td>0.060274</td>\n",
       "      <td>0.063504</td>\n",
       "      <td>0.060274</td>\n",
       "      <td>0.062427</td>\n",
       "      <td>308160000</td>\n",
       "      <td>0.0</td>\n",
       "      <td>0.0</td>\n",
       "    </tr>\n",
       "    <tr>\n",
       "      <th>1986-03-17 05:00:00</th>\n",
       "      <td>0.062427</td>\n",
       "      <td>0.064042</td>\n",
       "      <td>0.062427</td>\n",
       "      <td>0.063504</td>\n",
       "      <td>133171200</td>\n",
       "      <td>0.0</td>\n",
       "      <td>0.0</td>\n",
       "    </tr>\n",
       "    <tr>\n",
       "      <th>1986-03-18 05:00:00</th>\n",
       "      <td>0.063504</td>\n",
       "      <td>0.064042</td>\n",
       "      <td>0.061350</td>\n",
       "      <td>0.061889</td>\n",
       "      <td>67766400</td>\n",
       "      <td>0.0</td>\n",
       "      <td>0.0</td>\n",
       "    </tr>\n",
       "    <tr>\n",
       "      <th>1986-03-19 05:00:00</th>\n",
       "      <td>0.061888</td>\n",
       "      <td>0.062427</td>\n",
       "      <td>0.060274</td>\n",
       "      <td>0.060812</td>\n",
       "      <td>47894400</td>\n",
       "      <td>0.0</td>\n",
       "      <td>0.0</td>\n",
       "    </tr>\n",
       "  </tbody>\n",
       "</table>\n",
       "</div>"
      ],
      "text/plain": [
       "                         Open      High       Low     Close      Volume  \\\n",
       "1986-03-13 05:00:00  0.054893  0.062965  0.054893  0.060274  1031788800   \n",
       "1986-03-14 05:00:00  0.060274  0.063504  0.060274  0.062427   308160000   \n",
       "1986-03-17 05:00:00  0.062427  0.064042  0.062427  0.063504   133171200   \n",
       "1986-03-18 05:00:00  0.063504  0.064042  0.061350  0.061889    67766400   \n",
       "1986-03-19 05:00:00  0.061888  0.062427  0.060274  0.060812    47894400   \n",
       "\n",
       "                     Dividends  Stock Splits  \n",
       "1986-03-13 05:00:00        0.0           0.0  \n",
       "1986-03-14 05:00:00        0.0           0.0  \n",
       "1986-03-17 05:00:00        0.0           0.0  \n",
       "1986-03-18 05:00:00        0.0           0.0  \n",
       "1986-03-19 05:00:00        0.0           0.0  "
      ]
     },
     "execution_count": 7,
     "metadata": {},
     "output_type": "execute_result"
    }
   ],
   "source": [
    "msft_history.head()"
   ]
  },
  {
   "cell_type": "code",
   "execution_count": 8,
   "id": "f4ac2483",
   "metadata": {},
   "outputs": [
    {
     "data": {
      "image/png": "[encoded data removed]",
      "text/plain": [
       "<Figure size 640x480 with 1 Axes>"
      ]
     },
     "metadata": {},
     "output_type": "display_data"
    }
   ],
   "source": [
    "msft_history.plot.line(y=\"Close\")\n",
    "plt.title(\"Microsoft Stock Price\")\n",
    "plt.xlabel(\"Year\")\n",
    "plt.ylabel(\"Stock Price\")\n",
    "plt.show()"
   ]
  },
  {
   "cell_type": "markdown",
   "id": "23eaac5d",
   "metadata": {},
   "source": [
    "## Data Preparation"
   ]
  },
  {
   "cell_type": "code",
   "execution_count": 9,
   "id": "c986cbdd",
   "metadata": {},
   "outputs": [],
   "source": [
    "# Create a new DataFrame \n",
    "# [[ ]] = Creates a DataFrame \n",
    "msft_data = msft_history[[\"Close\"]]"
   ]
  },
  {
   "cell_type": "code",
   "execution_count": 10,
   "id": "8d201dbe",
   "metadata": {},
   "outputs": [],
   "source": [
    "# Rename \"Close\" column\n",
    "msft_data = msft_data.rename(columns = {\"Close\":\"Closing_Price\"})"
   ]
  },
  {
   "cell_type": "code",
   "execution_count": 11,
   "id": "4cb4ed41",
   "metadata": {
    "scrolled": false
   },
   "outputs": [
    {
     "data": {
      "text/html": [
       "<div>\n",
       "<style scoped>\n",
       "    .dataframe tbody tr th:only-of-type {\n",
       "        vertical-align: middle;\n",
       "    }\n",
       "\n",
       "    .dataframe tbody tr th {\n",
       "        vertical-align: top;\n",
       "    }\n",
       "\n",
       "    .dataframe thead th {\n",
       "        text-align: right;\n",
       "    }\n",
       "</style>\n",
       "<table border=\"1\" class=\"dataframe\">\n",
       "  <thead>\n",
       "    <tr style=\"text-align: right;\">\n",
       "      <th></th>\n",
       "      <th>Closing_Price</th>\n",
       "    </tr>\n",
       "  </thead>\n",
       "  <tbody>\n",
       "    <tr>\n",
       "      <th>1986-03-13 05:00:00</th>\n",
       "      <td>0.060274</td>\n",
       "    </tr>\n",
       "    <tr>\n",
       "      <th>1986-03-14 05:00:00</th>\n",
       "      <td>0.062427</td>\n",
       "    </tr>\n",
       "    <tr>\n",
       "      <th>1986-03-17 05:00:00</th>\n",
       "      <td>0.063504</td>\n",
       "    </tr>\n",
       "    <tr>\n",
       "      <th>1986-03-18 05:00:00</th>\n",
       "      <td>0.061889</td>\n",
       "    </tr>\n",
       "    <tr>\n",
       "      <th>1986-03-19 05:00:00</th>\n",
       "      <td>0.060812</td>\n",
       "    </tr>\n",
       "  </tbody>\n",
       "</table>\n",
       "</div>"
      ],
      "text/plain": [
       "                     Closing_Price\n",
       "1986-03-13 05:00:00       0.060274\n",
       "1986-03-14 05:00:00       0.062427\n",
       "1986-03-17 05:00:00       0.063504\n",
       "1986-03-18 05:00:00       0.061889\n",
       "1986-03-19 05:00:00       0.060812"
      ]
     },
     "execution_count": 11,
     "metadata": {},
     "output_type": "execute_result"
    }
   ],
   "source": [
    "msft_data.head()"
   ]
  },
  {
   "cell_type": "code",
   "execution_count": 12,
   "id": "0ee90527",
   "metadata": {},
   "outputs": [],
   "source": [
    "# Set target\n",
    "# 1 = price went up \n",
    "# 0 = price went down\n",
    "price_change = msft_history[\"Close\"].rolling(window=2).apply(lambda x: x[1] > x[0])"
   ]
  },
  {
   "cell_type": "code",
   "execution_count": 13,
   "id": "296cd578",
   "metadata": {},
   "outputs": [],
   "source": [
    "msft_data[\"Target\"] = price_change"
   ]
  },
  {
   "cell_type": "code",
   "execution_count": 14,
   "id": "048f2cdf",
   "metadata": {},
   "outputs": [
    {
     "data": {
      "text/html": [
       "<div>\n",
       "<style scoped>\n",
       "    .dataframe tbody tr th:only-of-type {\n",
       "        vertical-align: middle;\n",
       "    }\n",
       "\n",
       "    .dataframe tbody tr th {\n",
       "        vertical-align: top;\n",
       "    }\n",
       "\n",
       "    .dataframe thead th {\n",
       "        text-align: right;\n",
       "    }\n",
       "</style>\n",
       "<table border=\"1\" class=\"dataframe\">\n",
       "  <thead>\n",
       "    <tr style=\"text-align: right;\">\n",
       "      <th></th>\n",
       "      <th>Closing_Price</th>\n",
       "      <th>Target</th>\n",
       "    </tr>\n",
       "  </thead>\n",
       "  <tbody>\n",
       "    <tr>\n",
       "      <th>1986-03-13 05:00:00</th>\n",
       "      <td>0.060274</td>\n",
       "      <td>NaN</td>\n",
       "    </tr>\n",
       "    <tr>\n",
       "      <th>1986-03-14 05:00:00</th>\n",
       "      <td>0.062427</td>\n",
       "      <td>1.0</td>\n",
       "    </tr>\n",
       "    <tr>\n",
       "      <th>1986-03-17 05:00:00</th>\n",
       "      <td>0.063504</td>\n",
       "      <td>1.0</td>\n",
       "    </tr>\n",
       "    <tr>\n",
       "      <th>1986-03-18 05:00:00</th>\n",
       "      <td>0.061889</td>\n",
       "      <td>0.0</td>\n",
       "    </tr>\n",
       "    <tr>\n",
       "      <th>1986-03-19 05:00:00</th>\n",
       "      <td>0.060812</td>\n",
       "      <td>0.0</td>\n",
       "    </tr>\n",
       "  </tbody>\n",
       "</table>\n",
       "</div>"
      ],
      "text/plain": [
       "                     Closing_Price  Target\n",
       "1986-03-13 05:00:00       0.060274     NaN\n",
       "1986-03-14 05:00:00       0.062427     1.0\n",
       "1986-03-17 05:00:00       0.063504     1.0\n",
       "1986-03-18 05:00:00       0.061889     0.0\n",
       "1986-03-19 05:00:00       0.060812     0.0"
      ]
     },
     "execution_count": 14,
     "metadata": {},
     "output_type": "execute_result"
    }
   ],
   "source": [
    "msft_data.head()"
   ]
  },
  {
   "cell_type": "code",
   "execution_count": 15,
   "id": "d656f0ab",
   "metadata": {},
   "outputs": [],
   "source": [
    "# Shift msft stock price one day forward\n",
    "msft_prev = msft_history.copy()\n",
    "msft_prev = msft_prev.shift(1)"
   ]
  },
  {
   "cell_type": "code",
   "execution_count": 16,
   "id": "829bbd12",
   "metadata": {},
   "outputs": [
    {
     "data": {
      "text/html": [
       "<div>\n",
       "<style scoped>\n",
       "    .dataframe tbody tr th:only-of-type {\n",
       "        vertical-align: middle;\n",
       "    }\n",
       "\n",
       "    .dataframe tbody tr th {\n",
       "        vertical-align: top;\n",
       "    }\n",
       "\n",
       "    .dataframe thead th {\n",
       "        text-align: right;\n",
       "    }\n",
       "</style>\n",
       "<table border=\"1\" class=\"dataframe\">\n",
       "  <thead>\n",
       "    <tr style=\"text-align: right;\">\n",
       "      <th></th>\n",
       "      <th>Open</th>\n",
       "      <th>High</th>\n",
       "      <th>Low</th>\n",
       "      <th>Close</th>\n",
       "      <th>Volume</th>\n",
       "      <th>Dividends</th>\n",
       "      <th>Stock Splits</th>\n",
       "    </tr>\n",
       "  </thead>\n",
       "  <tbody>\n",
       "    <tr>\n",
       "      <th>1986-03-13 05:00:00</th>\n",
       "      <td>NaN</td>\n",
       "      <td>NaN</td>\n",
       "      <td>NaN</td>\n",
       "      <td>NaN</td>\n",
       "      <td>NaN</td>\n",
       "      <td>NaN</td>\n",
       "      <td>NaN</td>\n",
       "    </tr>\n",
       "    <tr>\n",
       "      <th>1986-03-14 05:00:00</th>\n",
       "      <td>0.054893</td>\n",
       "      <td>0.062965</td>\n",
       "      <td>0.054893</td>\n",
       "      <td>0.060274</td>\n",
       "      <td>1.031789e+09</td>\n",
       "      <td>0.0</td>\n",
       "      <td>0.0</td>\n",
       "    </tr>\n",
       "    <tr>\n",
       "      <th>1986-03-17 05:00:00</th>\n",
       "      <td>0.060274</td>\n",
       "      <td>0.063504</td>\n",
       "      <td>0.060274</td>\n",
       "      <td>0.062427</td>\n",
       "      <td>3.081600e+08</td>\n",
       "      <td>0.0</td>\n",
       "      <td>0.0</td>\n",
       "    </tr>\n",
       "    <tr>\n",
       "      <th>1986-03-18 05:00:00</th>\n",
       "      <td>0.062427</td>\n",
       "      <td>0.064042</td>\n",
       "      <td>0.062427</td>\n",
       "      <td>0.063504</td>\n",
       "      <td>1.331712e+08</td>\n",
       "      <td>0.0</td>\n",
       "      <td>0.0</td>\n",
       "    </tr>\n",
       "    <tr>\n",
       "      <th>1986-03-19 05:00:00</th>\n",
       "      <td>0.063504</td>\n",
       "      <td>0.064042</td>\n",
       "      <td>0.061350</td>\n",
       "      <td>0.061889</td>\n",
       "      <td>6.776640e+07</td>\n",
       "      <td>0.0</td>\n",
       "      <td>0.0</td>\n",
       "    </tr>\n",
       "  </tbody>\n",
       "</table>\n",
       "</div>"
      ],
      "text/plain": [
       "                         Open      High       Low     Close        Volume  \\\n",
       "1986-03-13 05:00:00       NaN       NaN       NaN       NaN           NaN   \n",
       "1986-03-14 05:00:00  0.054893  0.062965  0.054893  0.060274  1.031789e+09   \n",
       "1986-03-17 05:00:00  0.060274  0.063504  0.060274  0.062427  3.081600e+08   \n",
       "1986-03-18 05:00:00  0.062427  0.064042  0.062427  0.063504  1.331712e+08   \n",
       "1986-03-19 05:00:00  0.063504  0.064042  0.061350  0.061889  6.776640e+07   \n",
       "\n",
       "                     Dividends  Stock Splits  \n",
       "1986-03-13 05:00:00        NaN           NaN  \n",
       "1986-03-14 05:00:00        0.0           0.0  \n",
       "1986-03-17 05:00:00        0.0           0.0  \n",
       "1986-03-18 05:00:00        0.0           0.0  \n",
       "1986-03-19 05:00:00        0.0           0.0  "
      ]
     },
     "execution_count": 16,
     "metadata": {},
     "output_type": "execute_result"
    }
   ],
   "source": [
    "msft_prev.head()"
   ]
  },
  {
   "cell_type": "code",
   "execution_count": 17,
   "id": "10caa28a",
   "metadata": {},
   "outputs": [],
   "source": [
    "predictors = [\"Close\", \"Volume\", \"Open\", \"High\", \"Low\"]"
   ]
  },
  {
   "cell_type": "code",
   "execution_count": 18,
   "id": "46aa5e1e",
   "metadata": {},
   "outputs": [],
   "source": [
    "# Combine Data\n",
    "combined_data = msft_data.join(msft_prev[predictors])"
   ]
  },
  {
   "cell_type": "code",
   "execution_count": 19,
   "id": "8bdd72d9",
   "metadata": {},
   "outputs": [
    {
     "data": {
      "text/html": [
       "<div>\n",
       "<style scoped>\n",
       "    .dataframe tbody tr th:only-of-type {\n",
       "        vertical-align: middle;\n",
       "    }\n",
       "\n",
       "    .dataframe tbody tr th {\n",
       "        vertical-align: top;\n",
       "    }\n",
       "\n",
       "    .dataframe thead th {\n",
       "        text-align: right;\n",
       "    }\n",
       "</style>\n",
       "<table border=\"1\" class=\"dataframe\">\n",
       "  <thead>\n",
       "    <tr style=\"text-align: right;\">\n",
       "      <th></th>\n",
       "      <th>Closing_Price</th>\n",
       "      <th>Target</th>\n",
       "      <th>Close</th>\n",
       "      <th>Volume</th>\n",
       "      <th>Open</th>\n",
       "      <th>High</th>\n",
       "      <th>Low</th>\n",
       "    </tr>\n",
       "  </thead>\n",
       "  <tbody>\n",
       "    <tr>\n",
       "      <th>1986-03-13 05:00:00</th>\n",
       "      <td>0.060274</td>\n",
       "      <td>NaN</td>\n",
       "      <td>NaN</td>\n",
       "      <td>NaN</td>\n",
       "      <td>NaN</td>\n",
       "      <td>NaN</td>\n",
       "      <td>NaN</td>\n",
       "    </tr>\n",
       "    <tr>\n",
       "      <th>1986-03-14 05:00:00</th>\n",
       "      <td>0.062427</td>\n",
       "      <td>1.0</td>\n",
       "      <td>0.060274</td>\n",
       "      <td>1.031789e+09</td>\n",
       "      <td>0.054893</td>\n",
       "      <td>0.062965</td>\n",
       "      <td>0.054893</td>\n",
       "    </tr>\n",
       "    <tr>\n",
       "      <th>1986-03-17 05:00:00</th>\n",
       "      <td>0.063504</td>\n",
       "      <td>1.0</td>\n",
       "      <td>0.062427</td>\n",
       "      <td>3.081600e+08</td>\n",
       "      <td>0.060274</td>\n",
       "      <td>0.063504</td>\n",
       "      <td>0.060274</td>\n",
       "    </tr>\n",
       "    <tr>\n",
       "      <th>1986-03-18 05:00:00</th>\n",
       "      <td>0.061889</td>\n",
       "      <td>0.0</td>\n",
       "      <td>0.063504</td>\n",
       "      <td>1.331712e+08</td>\n",
       "      <td>0.062427</td>\n",
       "      <td>0.064042</td>\n",
       "      <td>0.062427</td>\n",
       "    </tr>\n",
       "    <tr>\n",
       "      <th>1986-03-19 05:00:00</th>\n",
       "      <td>0.060812</td>\n",
       "      <td>0.0</td>\n",
       "      <td>0.061889</td>\n",
       "      <td>6.776640e+07</td>\n",
       "      <td>0.063504</td>\n",
       "      <td>0.064042</td>\n",
       "      <td>0.061350</td>\n",
       "    </tr>\n",
       "  </tbody>\n",
       "</table>\n",
       "</div>"
      ],
      "text/plain": [
       "                     Closing_Price  Target     Close        Volume      Open  \\\n",
       "1986-03-13 05:00:00       0.060274     NaN       NaN           NaN       NaN   \n",
       "1986-03-14 05:00:00       0.062427     1.0  0.060274  1.031789e+09  0.054893   \n",
       "1986-03-17 05:00:00       0.063504     1.0  0.062427  3.081600e+08  0.060274   \n",
       "1986-03-18 05:00:00       0.061889     0.0  0.063504  1.331712e+08  0.062427   \n",
       "1986-03-19 05:00:00       0.060812     0.0  0.061889  6.776640e+07  0.063504   \n",
       "\n",
       "                         High       Low  \n",
       "1986-03-13 05:00:00       NaN       NaN  \n",
       "1986-03-14 05:00:00  0.062965  0.054893  \n",
       "1986-03-17 05:00:00  0.063504  0.060274  \n",
       "1986-03-18 05:00:00  0.064042  0.062427  \n",
       "1986-03-19 05:00:00  0.064042  0.061350  "
      ]
     },
     "execution_count": 19,
     "metadata": {},
     "output_type": "execute_result"
    }
   ],
   "source": [
    "combined_data.head()"
   ]
  },
  {
   "cell_type": "code",
   "execution_count": 20,
   "id": "06196141",
   "metadata": {},
   "outputs": [],
   "source": [
    "# Skip first row\n",
    "msft_data = combined_data.drop(combined_data.index[0])"
   ]
  },
  {
   "cell_type": "code",
   "execution_count": 21,
   "id": "6cca037d",
   "metadata": {},
   "outputs": [
    {
     "data": {
      "text/html": [
       "<div>\n",
       "<style scoped>\n",
       "    .dataframe tbody tr th:only-of-type {\n",
       "        vertical-align: middle;\n",
       "    }\n",
       "\n",
       "    .dataframe tbody tr th {\n",
       "        vertical-align: top;\n",
       "    }\n",
       "\n",
       "    .dataframe thead th {\n",
       "        text-align: right;\n",
       "    }\n",
       "</style>\n",
       "<table border=\"1\" class=\"dataframe\">\n",
       "  <thead>\n",
       "    <tr style=\"text-align: right;\">\n",
       "      <th></th>\n",
       "      <th>Closing_Price</th>\n",
       "      <th>Target</th>\n",
       "      <th>Close</th>\n",
       "      <th>Volume</th>\n",
       "      <th>Open</th>\n",
       "      <th>High</th>\n",
       "      <th>Low</th>\n",
       "    </tr>\n",
       "  </thead>\n",
       "  <tbody>\n",
       "    <tr>\n",
       "      <th>1986-03-14 05:00:00</th>\n",
       "      <td>0.062427</td>\n",
       "      <td>1.0</td>\n",
       "      <td>0.060274</td>\n",
       "      <td>1.031789e+09</td>\n",
       "      <td>0.054893</td>\n",
       "      <td>0.062965</td>\n",
       "      <td>0.054893</td>\n",
       "    </tr>\n",
       "    <tr>\n",
       "      <th>1986-03-17 05:00:00</th>\n",
       "      <td>0.063504</td>\n",
       "      <td>1.0</td>\n",
       "      <td>0.062427</td>\n",
       "      <td>3.081600e+08</td>\n",
       "      <td>0.060274</td>\n",
       "      <td>0.063504</td>\n",
       "      <td>0.060274</td>\n",
       "    </tr>\n",
       "    <tr>\n",
       "      <th>1986-03-18 05:00:00</th>\n",
       "      <td>0.061889</td>\n",
       "      <td>0.0</td>\n",
       "      <td>0.063504</td>\n",
       "      <td>1.331712e+08</td>\n",
       "      <td>0.062427</td>\n",
       "      <td>0.064042</td>\n",
       "      <td>0.062427</td>\n",
       "    </tr>\n",
       "    <tr>\n",
       "      <th>1986-03-19 05:00:00</th>\n",
       "      <td>0.060812</td>\n",
       "      <td>0.0</td>\n",
       "      <td>0.061889</td>\n",
       "      <td>6.776640e+07</td>\n",
       "      <td>0.063504</td>\n",
       "      <td>0.064042</td>\n",
       "      <td>0.061350</td>\n",
       "    </tr>\n",
       "    <tr>\n",
       "      <th>1986-03-20 05:00:00</th>\n",
       "      <td>0.059198</td>\n",
       "      <td>0.0</td>\n",
       "      <td>0.060812</td>\n",
       "      <td>4.789440e+07</td>\n",
       "      <td>0.061888</td>\n",
       "      <td>0.062427</td>\n",
       "      <td>0.060274</td>\n",
       "    </tr>\n",
       "  </tbody>\n",
       "</table>\n",
       "</div>"
      ],
      "text/plain": [
       "                     Closing_Price  Target     Close        Volume      Open  \\\n",
       "1986-03-14 05:00:00       0.062427     1.0  0.060274  1.031789e+09  0.054893   \n",
       "1986-03-17 05:00:00       0.063504     1.0  0.062427  3.081600e+08  0.060274   \n",
       "1986-03-18 05:00:00       0.061889     0.0  0.063504  1.331712e+08  0.062427   \n",
       "1986-03-19 05:00:00       0.060812     0.0  0.061889  6.776640e+07  0.063504   \n",
       "1986-03-20 05:00:00       0.059198     0.0  0.060812  4.789440e+07  0.061888   \n",
       "\n",
       "                         High       Low  \n",
       "1986-03-14 05:00:00  0.062965  0.054893  \n",
       "1986-03-17 05:00:00  0.063504  0.060274  \n",
       "1986-03-18 05:00:00  0.064042  0.062427  \n",
       "1986-03-19 05:00:00  0.064042  0.061350  \n",
       "1986-03-20 05:00:00  0.062427  0.060274  "
      ]
     },
     "execution_count": 21,
     "metadata": {},
     "output_type": "execute_result"
    }
   ],
   "source": [
    "msft_data.head()"
   ]
  },
  {
   "cell_type": "markdown",
   "id": "ad477408",
   "metadata": {},
   "source": [
    "## Create a Machine Learning Model "
   ]
  },
  {
   "cell_type": "code",
   "execution_count": 22,
   "id": "4da02f99",
   "metadata": {},
   "outputs": [],
   "source": [
    "# Create a Random Forest Model \n",
    "random_model = RandomForestClassifier(n_estimators=100, min_samples_split=200, random_state=1)"
   ]
  },
  {
   "cell_type": "code",
   "execution_count": 23,
   "id": "b9d655fb",
   "metadata": {},
   "outputs": [],
   "source": [
    "# Create a train and test set \n",
    "train = msft_data.iloc[:-100]\n",
    "test = msft_data.iloc[-100:]"
   ]
  },
  {
   "cell_type": "code",
   "execution_count": 25,
   "id": "4299d2aa",
   "metadata": {},
   "outputs": [
    {
     "data": {
      "text/html": [
       "<style>#sk-container-id-1 {color: black;}#sk-container-id-1 pre{padding: 0;}#sk-container-id-1 div.sk-toggleable {background-color: white;}#sk-container-id-1 label.sk-toggleable__label {cursor: pointer;display: block;width: 100%;margin-bottom: 0;padding: 0.3em;box-sizing: border-box;text-align: center;}#sk-container-id-1 label.sk-toggleable__label-arrow:before {content: \"▸\";float: left;margin-right: 0.25em;color: #696969;}#sk-container-id-1 label.sk-toggleable__label-arrow:hover:before {color: black;}#sk-container-id-1 div.sk-estimator:hover label.sk-toggleable__label-arrow:before {color: black;}#sk-container-id-1 div.sk-toggleable__content {max-height: 0;max-width: 0;overflow: hidden;text-align: left;background-color: #f0f8ff;}#sk-container-id-1 div.sk-toggleable__content pre {margin: 0.2em;color: black;border-radius: 0.25em;background-color: #f0f8ff;}#sk-container-id-1 input.sk-toggleable__control:checked~div.sk-toggleable__content {max-height: 200px;max-width: 100%;overflow: auto;}#sk-container-id-1 input.sk-toggleable__control:checked~label.sk-toggleable__label-arrow:before {content: \"▾\";}#sk-container-id-1 div.sk-estimator input.sk-toggleable__control:checked~label.sk-toggleable__label {background-color: #d4ebff;}#sk-container-id-1 div.sk-label input.sk-toggleable__control:checked~label.sk-toggleable__label {background-color: #d4ebff;}#sk-container-id-1 input.sk-hidden--visually {border: 0;clip: rect(1px 1px 1px 1px);clip: rect(1px, 1px, 1px, 1px);height: 1px;margin: -1px;overflow: hidden;padding: 0;position: absolute;width: 1px;}#sk-container-id-1 div.sk-estimator {font-family: monospace;background-color: #f0f8ff;border: 1px dotted black;border-radius: 0.25em;box-sizing: border-box;margin-bottom: 0.5em;}#sk-container-id-1 div.sk-estimator:hover {background-color: #d4ebff;}#sk-container-id-1 div.sk-parallel-item::after {content: \"\";width: 100%;border-bottom: 1px solid gray;flex-grow: 1;}#sk-container-id-1 div.sk-label:hover label.sk-toggleable__label {background-color: #d4ebff;}#sk-container-id-1 div.sk-serial::before {content: \"\";position: absolute;border-left: 1px solid gray;box-sizing: border-box;top: 0;bottom: 0;left: 50%;z-index: 0;}#sk-container-id-1 div.sk-serial {display: flex;flex-direction: column;align-items: center;background-color: white;padding-right: 0.2em;padding-left: 0.2em;position: relative;}#sk-container-id-1 div.sk-item {position: relative;z-index: 1;}#sk-container-id-1 div.sk-parallel {display: flex;align-items: stretch;justify-content: center;background-color: white;position: relative;}#sk-container-id-1 div.sk-item::before, #sk-container-id-1 div.sk-parallel-item::before {content: \"\";position: absolute;border-left: 1px solid gray;box-sizing: border-box;top: 0;bottom: 0;left: 50%;z-index: -1;}#sk-container-id-1 div.sk-parallel-item {display: flex;flex-direction: column;z-index: 1;position: relative;background-color: white;}#sk-container-id-1 div.sk-parallel-item:first-child::after {align-self: flex-end;width: 50%;}#sk-container-id-1 div.sk-parallel-item:last-child::after {align-self: flex-start;width: 50%;}#sk-container-id-1 div.sk-parallel-item:only-child::after {width: 0;}#sk-container-id-1 div.sk-dashed-wrapped {border: 1px dashed gray;margin: 0 0.4em 0.5em 0.4em;box-sizing: border-box;padding-bottom: 0.4em;background-color: white;}#sk-container-id-1 div.sk-label label {font-family: monospace;font-weight: bold;display: inline-block;line-height: 1.2em;}#sk-container-id-1 div.sk-label-container {text-align: center;}#sk-container-id-1 div.sk-container {/* jupyter's `normalize.less` sets `[hidden] { display: none; }` but bootstrap.min.css set `[hidden] { display: none !important; }` so we also need the `!important` here to be able to override the default hidden behavior on the sphinx rendered scikit-learn.org. See: https://github.com/scikit-learn/scikit-learn/issues/21755 */display: inline-block !important;position: relative;}#sk-container-id-1 div.sk-text-repr-fallback {display: none;}</style><div id=\"sk-container-id-1\" class=\"sk-top-container\"><div class=\"sk-text-repr-fallback\"><pre>RandomForestClassifier(min_samples_split=200, random_state=1)</pre><b>In a Jupyter environment, please rerun this cell to show the HTML representation or trust the notebook. <br />On GitHub, the HTML representation is unable to render, please try loading this page with nbviewer.org.</b></div><div class=\"sk-container\" hidden><div class=\"sk-item\"><div class=\"sk-estimator sk-toggleable\"><input class=\"sk-toggleable__control sk-hidden--visually\" id=\"sk-estimator-id-1\" type=\"checkbox\" checked><label for=\"sk-estimator-id-1\" class=\"sk-toggleable__label sk-toggleable__label-arrow\">RandomForestClassifier</label><div class=\"sk-toggleable__content\"><pre>RandomForestClassifier(min_samples_split=200, random_state=1)</pre></div></div></div></div></div>"
      ],
      "text/plain": [
       "RandomForestClassifier(min_samples_split=200, random_state=1)"
      ]
     },
     "execution_count": 25,
     "metadata": {},
     "output_type": "execute_result"
    }
   ],
   "source": [
    "random_model.fit(train[predictors], train[\"Target\"])"
   ]
  },
  {
   "cell_type": "code",
   "execution_count": 27,
   "id": "df17d4c4",
   "metadata": {},
   "outputs": [
    {
     "data": {
      "text/plain": [
       "0.7647058823529411"
      ]
     },
     "execution_count": 27,
     "metadata": {},
     "output_type": "execute_result"
    }
   ],
   "source": [
    "# Evaluate prediction errors \n",
    "preds = random_model.predict(test[predictors])\n",
    "preds = pd.Series(preds, index=test.index)\n",
    "precision_score(test[\"Target\"], preds)"
   ]
  },
  {
   "cell_type": "markdown",
   "id": "d65a7e95",
   "metadata": {},
   "source": [
    "#### The Random Forest Classifier model is accurate 76% of the time"
   ]
  },
  {
   "cell_type": "code",
   "execution_count": 28,
   "id": "2219d734",
   "metadata": {},
   "outputs": [
    {
     "data": {
      "text/plain": [
       "<Axes: >"
      ]
     },
     "execution_count": 28,
     "metadata": {},
     "output_type": "execute_result"
    },
    {
     "data": {
      "image/png": "[encoded data removed]",
      "text/plain": [
       "<Figure size 640x480 with 1 Axes>"
      ]
     },
     "metadata": {},
     "output_type": "display_data"
    }
   ],
   "source": [
    "combined = pd.concat({\"Target\": test[\"Target\"],\"Predictions\": preds}, axis=1)\n",
    "combined.plot()"
   ]
  },
  {
   "cell_type": "markdown",
   "id": "8c57e3f9",
   "metadata": {},
   "source": [
    "## Backtesting"
   ]
  },
  {
   "cell_type": "code",
   "execution_count": 42,
   "id": "21337ca9",
   "metadata": {},
   "outputs": [],
   "source": [
    "def backtest(msft_data, random_model, predictors, start=1000, step=750):\n",
    "    predictions = []\n",
    "    # Loop over the dataset in increments\n",
    "    for i in range(start, msft_data.shape[0], step):\n",
    "        # Split into train and test sets\n",
    "        train = msft_data.iloc[0:i].copy()\n",
    "        test = msft_data.iloc[i:(i+step)].copy()\n",
    "        \n",
    "        # Fit the random forest model\n",
    "        random_model.fit(train[predictors], train[\"Target\"])\n",
    "        \n",
    "        # Make predictions\n",
    "        preds = random_model.predict_proba(test[predictors])[:,1]\n",
    "        preds = pd.Series(preds, index=test.index)\n",
    "        preds[preds > .6] = 1\n",
    "        preds[preds<=.6] = 0\n",
    "        \n",
    "        # Combine predictions and test values\n",
    "        combined = pd.concat({\"Target\": test[\"Target\"],\"Predictions\": preds}, axis=1)\n",
    "        \n",
    "        predictions.append(combined)\n",
    "    \n",
    "    return pd.concat(predictions)"
   ]
  },
  {
   "cell_type": "code",
   "execution_count": 43,
   "id": "9f179ec4",
   "metadata": {},
   "outputs": [],
   "source": [
    "predictions = backtest(msft_data, random_model, predictors)"
   ]
  },
  {
   "cell_type": "code",
   "execution_count": 44,
   "id": "ce908812",
   "metadata": {},
   "outputs": [
    {
     "data": {
      "text/html": [
       "<div>\n",
       "<style scoped>\n",
       "    .dataframe tbody tr th:only-of-type {\n",
       "        vertical-align: middle;\n",
       "    }\n",
       "\n",
       "    .dataframe tbody tr th {\n",
       "        vertical-align: top;\n",
       "    }\n",
       "\n",
       "    .dataframe thead th {\n",
       "        text-align: right;\n",
       "    }\n",
       "</style>\n",
       "<table border=\"1\" class=\"dataframe\">\n",
       "  <thead>\n",
       "    <tr style=\"text-align: right;\">\n",
       "      <th></th>\n",
       "      <th>Target</th>\n",
       "      <th>Predictions</th>\n",
       "    </tr>\n",
       "  </thead>\n",
       "  <tbody>\n",
       "    <tr>\n",
       "      <th>1990-02-27 05:00:00</th>\n",
       "      <td>0.0</td>\n",
       "      <td>1.0</td>\n",
       "    </tr>\n",
       "    <tr>\n",
       "      <th>1990-02-28 05:00:00</th>\n",
       "      <td>1.0</td>\n",
       "      <td>1.0</td>\n",
       "    </tr>\n",
       "    <tr>\n",
       "      <th>1990-03-01 05:00:00</th>\n",
       "      <td>1.0</td>\n",
       "      <td>1.0</td>\n",
       "    </tr>\n",
       "    <tr>\n",
       "      <th>1990-03-02 05:00:00</th>\n",
       "      <td>1.0</td>\n",
       "      <td>1.0</td>\n",
       "    </tr>\n",
       "    <tr>\n",
       "      <th>1990-03-05 05:00:00</th>\n",
       "      <td>1.0</td>\n",
       "      <td>1.0</td>\n",
       "    </tr>\n",
       "  </tbody>\n",
       "</table>\n",
       "</div>"
      ],
      "text/plain": [
       "                     Target  Predictions\n",
       "1990-02-27 05:00:00     0.0          1.0\n",
       "1990-02-28 05:00:00     1.0          1.0\n",
       "1990-03-01 05:00:00     1.0          1.0\n",
       "1990-03-02 05:00:00     1.0          1.0\n",
       "1990-03-05 05:00:00     1.0          1.0"
      ]
     },
     "execution_count": 44,
     "metadata": {},
     "output_type": "execute_result"
    }
   ],
   "source": [
    "predictions.head()"
   ]
  },
  {
   "cell_type": "code",
   "execution_count": 45,
   "id": "cbe8a919",
   "metadata": {},
   "outputs": [
    {
     "data": {
      "text/plain": [
       "Predictions\n",
       "0.0    7839\n",
       "1.0     694\n",
       "Name: count, dtype: int64"
      ]
     },
     "execution_count": 45,
     "metadata": {},
     "output_type": "execute_result"
    }
   ],
   "source": [
    "predictions[\"Predictions\"].value_counts()"
   ]
  },
  {
   "cell_type": "code",
   "execution_count": 46,
   "id": "5a6f89e7",
   "metadata": {},
   "outputs": [
    {
     "data": {
      "text/plain": [
       "0.5072046109510087"
      ]
     },
     "execution_count": 46,
     "metadata": {},
     "output_type": "execute_result"
    }
   ],
   "source": [
    "precision_score(predictions[\"Target\"], predictions[\"Predictions\"])"
   ]
  },
  {
   "cell_type": "markdown",
   "id": "0af61d18",
   "metadata": {},
   "source": [
    "## Improving Accuracy"
   ]
  },
  {
   "cell_type": "code",
   "execution_count": 47,
   "id": "1e6feee8",
   "metadata": {},
   "outputs": [],
   "source": [
    "weekly_mean = msft_data.rolling(7).mean()\n",
    "quarterly_mean = msft_data.rolling(90).mean()\n",
    "annual_mean = msft_data.rolling(365).mean()\n",
    "weekly_trend = msft_data.shift(1).rolling(7).mean()[\"Target\"]"
   ]
  },
  {
   "cell_type": "code",
   "execution_count": 48,
   "id": "98582e88",
   "metadata": {},
   "outputs": [],
   "source": [
    "msft_data[\"weekly_mean\"] = weekly_mean[\"Close\"] / msft_data[\"Close\"]\n",
    "msft_data[\"quarterly_mean\"] = quarterly_mean[\"Close\"] / msft_data[\"Close\"]\n",
    "msft_data[\"annual_mean\"] = annual_mean[\"Close\"] / msft_data[\"Close\"]\n",
    "\n",
    "msft_data[\"annual_weekly_mean\"] = msft_data[\"annual_mean\"] / msft_data[\"weekly_mean\"]\n",
    "msft_data[\"annual_quarterly_mean\"] = msft_data[\"annual_mean\"] / msft_data[\"quarterly_mean\"]\n",
    "msft_data[\"weekly_trend\"] = weekly_trend\n",
    "\n",
    "msft_data[\"open_close_ratio\"] = msft_data[\"Open\"] / msft_data[\"Close\"]\n",
    "msft_data[\"high_close_ratio\"] = msft_data[\"High\"] / msft_data[\"Close\"]\n",
    "msft_data[\"low_close_ratio\"] = msft_data[\"Low\"] / msft_data[\"Close\"]"
   ]
  },
  {
   "cell_type": "code",
   "execution_count": 49,
   "id": "76556bfc",
   "metadata": {
    "scrolled": true
   },
   "outputs": [],
   "source": [
    "full_predictors = predictors + [\"weekly_mean\", \"quarterly_mean\", \"annual_mean\", \"annual_weekly_mean\", \"annual_quarterly_mean\", \"open_close_ratio\", \"high_close_ratio\", \"low_close_ratio\", \"weekly_trend\"]\n",
    "predictions = backtest(msft_data.iloc[365:], random_model, full_predictors)"
   ]
  },
  {
   "cell_type": "code",
   "execution_count": 50,
   "id": "57538466",
   "metadata": {},
   "outputs": [
    {
     "data": {
      "text/plain": [
       "0.5809859154929577"
      ]
     },
     "execution_count": 50,
     "metadata": {},
     "output_type": "execute_result"
    }
   ],
   "source": [
    "precision_score(predictions[\"Target\"], predictions[\"Predictions\"])"
   ]
  },
  {
   "cell_type": "code",
   "execution_count": 51,
   "id": "76d38e71",
   "metadata": {},
   "outputs": [
    {
     "data": {
      "text/plain": [
       "Predictions\n",
       "0.0    7884\n",
       "1.0     284\n",
       "Name: count, dtype: int64"
      ]
     },
     "execution_count": 51,
     "metadata": {},
     "output_type": "execute_result"
    }
   ],
   "source": [
    "# Show how many trades made\n",
    "predictions[\"Predictions\"].value_counts()"
   ]
  },
  {
   "cell_type": "code",
   "execution_count": 52,
   "id": "63dbe355",
   "metadata": {},
   "outputs": [
    {
     "data": {
      "text/plain": [
       "<Axes: >"
      ]
     },
     "execution_count": 52,
     "metadata": {},
     "output_type": "execute_result"
    },
    {
     "data": {
      "image/png": "[encoded data removed]",
      "text/plain": [
       "<Figure size 640x480 with 1 Axes>"
      ]
     },
     "metadata": {},
     "output_type": "display_data"
    }
   ],
   "source": [
    "predictions.iloc[-100:].plot()"
   ]
  },
  {
   "cell_type": "code",
   "execution_count": null,
   "id": "4a6aae9d",
   "metadata": {},
   "outputs": [],
   "source": []
  },
  {
   "cell_type": "code",
   "execution_count": null,
   "id": "7f835996",
   "metadata": {},
   "outputs": [],
   "source": []
  },
  {
   "cell_type": "code",
   "execution_count": null,
   "id": "206d67bc",
   "metadata": {},
   "outputs": [],
   "source": []
  },
  {
   "cell_type": "code",
   "execution_count": null,
   "id": "47d44bcc",
   "metadata": {},
   "outputs": [],
   "source": []
  },
  {
   "cell_type": "code",
   "execution_count": null,
   "id": "5feea334",
   "metadata": {},
   "outputs": [],
   "source": []
  },
  {
   "cell_type": "code",
   "execution_count": null,
   "id": "9896a81b",
   "metadata": {},
   "outputs": [],
   "source": []
  },
  {
   "cell_type": "code",
   "execution_count": null,
   "id": "7fcf8cc0",
   "metadata": {},
   "outputs": [],
   "source": []
  },
  {
   "cell_type": "code",
   "execution_count": null,
   "id": "df86c9c4",
   "metadata": {},
   "outputs": [],
   "source": []
  }
 ],
 "metadata": {
  "kernelspec": {
   "display_name": "Python 3 (ipykernel)",
   "language": "python",
   "name": "python3"
  },
  "language_info": {
   "codemirror_mode": {
    "name": "ipython",
    "version": 3
   },
   "file_extension": ".py",
   "mimetype": "text/x-python",
   "name": "python",
   "nbconvert_exporter": "python",
   "pygments_lexer": "ipython3",
   "version": "3.11.5"
  }
 },
 "nbformat": 4,
 "nbformat_minor": 5
}
